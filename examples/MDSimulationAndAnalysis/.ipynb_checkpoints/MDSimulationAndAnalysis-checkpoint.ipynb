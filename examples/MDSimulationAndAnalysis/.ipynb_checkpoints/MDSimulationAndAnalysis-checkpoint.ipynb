{
 "metadata": {
  "name": ""
 },
 "nbformat": 3,
 "nbformat_minor": 0,
 "worksheets": [
  {
   "cells": [
    {
     "cell_type": "markdown",
     "metadata": {},
     "source": [
      "<style>\n",
      "div.title {\n",
      "    background-color: #F8E6E0;\n",
      "    border-color: #610B21;\n",
      "    border-left: 20px solid #610B21;\n",
      "    padding: 0.5em;\n",
      "    }\n",
      "div.chaptertitle {\n",
      "    background-color: #F8E6E0;\n",
      "    border-color: #610B21;\n",
      "    border-left: 10px solid #610B21;\n",
      "    padding: 0.5em;\n",
      "    }\n",
      "div.subchaptertitle {\n",
      "    background-color: #F8E6E0;\n",
      "    border-color: #610B21;\n",
      "    border-left: 10px solid #610B21;\n",
      "    padding-left: 0.5em;\n",
      "    padding-top: 0.3em;\n",
      "    padding-bottom: 0.3em;\n",
      "    }\n",
      "div.exampletitle {\n",
      "    background-color: #FCF5EB;\n",
      "    border-color: #F8E6E0;\n",
      "    border-left: 1px solid #F8E6E0;\n",
      "    border-right: 1px solid #F8E6E0;\n",
      "    border-bottom: 1px solid #F8E6E0;\n",
      "    border-top: 1px solid #F8E6E0;\n",
      "    padding-left: 0.5em;\n",
      "    }\n",
      "div.tip {\n",
      "    background-color: #eeeeee;\n",
      "    padding: 1.0em;\n",
      "    }\n",
      "div.code {\n",
      "    background-color: #eeeeee;\n",
      "    padding: 0.3em;\n",
      "    font-family: Courier New, Courier, monospace;\n",
      "    }\n",
      "div.examplelabel {\n",
      "    background-color: #610B21;\n",
      "    font-color: #FFFFFF;\n",
      "    border-color: #F8E6E0;\n",
      "    border-left: 1px solid #F8E6E0;\n",
      "    border-right: 1px solid #F8E6E0;\n",
      "    border-bottom: 1px solid #F8E6E0;\n",
      "    border-top: 1px solid #F8E6E0;\n",
      "    padding-left: 0.5em;\n",
      "    }    \n",
      "</style>\n",
      "<i>Omnia Tutorial</i>"
     ]
    },
    {
     "cell_type": "markdown",
     "metadata": {},
     "source": [
      "<div class=\"title\"><h1>Tutorial 1:  Running and Analyzing Molecular Dynamics (MD) Simulations</h1></div>"
     ]
    },
    {
     "cell_type": "markdown",
     "metadata": {},
     "source": [
      "<h2>Learning Goals</h2>\n",
      "\n",
      "After completing this tutorial, you will be able to:\n",
      "\n",
      "<ol>\n",
      "<li> Use PDBFixer to prepare a molecule from the <a href=\"http://www.rcsb.org/pdb/home/home.do\">Protein Data Bank (PDB)</a> for simulation</li>\n",
      "<li> Use OpenMM to set up and run an implicit solvent simulation using a Langevin integrator </li>\n",
      "<li> Use MDTraj to compare and contrast two molecular dynamic trajectories in terms of RMSD and dihedral angles </li>\n",
      "</ol>"
     ]
    },
    {
     "cell_type": "markdown",
     "metadata": {},
     "source": [
      "<h2>Requirements</h2>\n",
      "In order to run this tutorial, you need to have the following software installed:  [TO BE UPDATED AFTER PACKAGING COMPLETED]\n",
      "\n",
      "<ul>\n",
      "<li> <b>IPython (with IPython Notebook):</b>  This is part of the <a href=\"https://store.continuum.io/cshop/anaconda/\">Anaconda</a> (Python versions 2.7 and later) and <a href=\"https://store.enthought.com/\">Enthought Canopy</a> packages.  You can also install IPython on your own (see <a href=\"http://ipython.org/ipython-doc/stable/install/install.html\"> http://ipython.org/ipython-doc/stable/install/install.html)</a></li>\n",
      "<li> <b>Omnia X.X:</b> You can also individually install the software packages.  You will need PDBFixer X.X or greater, OpenMM X.X or greater, AND MDTraj X.X or greater.</li>\n",
      "</ul>\n",
      "\n"
     ]
    },
    {
     "cell_type": "markdown",
     "metadata": {},
     "source": [
      "<div class=\"tip\">\n",
      "<b>New IPython Notebook users:</b>  IPython Notebook is a rich, interactive environment for Python.  In this tutorial, all you need to know is that a notebook is organized into boxes or sections referred to as <i>cells</i>.  For any cell with code in it, you can just click on the code and begin editing it. To execute the code, you run the cell by clicking on the \"Run Cell\" (triangle) icon in the menu or typing SHIFT-ENTER in the cell.  \n",
      "\n",
      "<br/>Try running the cell below that says \"print('This is my first IPython Notebook.').\"  You should see the statement \"This is my first IPython Notebook.\" printed below.  Then, click on the print statement in the cell and change the text that is printed out.  Run the cell again.  Did you get a new statement to be printed out?  \n",
      "\n",
      "<br/>For more information about the IPython Notebook, visit <a href=\"http://ipython.org/ipython-doc/stable/notebook/index.html\">http://ipython.org/ipython-doc/stable/notebook/index.html</a>.  \n",
      "</div>"
     ]
    },
    {
     "cell_type": "code",
     "collapsed": false,
     "input": [
      "print('This is my first IPython Notebook.')"
     ],
     "language": "python",
     "metadata": {},
     "outputs": [
      {
       "output_type": "stream",
       "stream": "stdout",
       "text": [
        "This is my first IPython Notebook.\n"
       ]
      }
     ],
     "prompt_number": 4
    },
    {
     "cell_type": "markdown",
     "metadata": {},
     "source": [
      "<div class=\"chaptertitle\"><h2>1. Preparing Your Molecule File for MD using PDBFixer</h2></div>"
     ]
    },
    {
     "cell_type": "markdown",
     "metadata": {},
     "source": [
      "<img src=\"/files/two_state_ubiq.png\" width=\"30%\" style=\"float: right; padding: 0.7em;\"/>"
     ]
    },
    {
     "cell_type": "markdown",
     "metadata": {},
     "source": [
      "The protein that we will be working with is ubiquitin. It's a signaling hub protein that is at the intersection of various signaling pathways in our bodies - misregulation of which has been implicated in neurodegenerative diseases and the onset of cancer.  It is primarily responsible for protein degradation. For more details about ubiquitin, see http://en.wikipedia.org/wiki/Ubiquitin.\n",
      "\n",
      "The crystal structure for ubiquitin can be obtained as a <a href=\"http://www.rcsb.org/pdb/home/home.do\">Protein Data Bank (PDB)</a> file.  PDB files often have a number of problems that must be fixed, though, before they can be used in a molecular dynamics simulation. For instance, they may be missing atoms or include nonstandard residues.  PDBFixer can fix many of these problems in a fully automated way.  [WHAT WEBPAGE TO LINK TO FOR PDBFIXER?]"
     ]
    },
    {
     "cell_type": "markdown",
     "metadata": {},
     "source": [
      "<div class=\"exampletitle\">\n",
      "<h4>Exercise: Create a PDB File for Running a Simulation of Ubiquitin</h4>\n",
      "</div>\n",
      "\n",
      "<p>PDBFixer can be used in three different ways: as a desktop application with a graphical user interface; as a command line application; or as a Python API. We will use the desktop application in this tutorial because of its graphical user interface.  To launch the program, run the cell below. "
     ]
    },
    {
     "cell_type": "code",
     "collapsed": false,
     "input": [
      "%run pdbfixer.py"
     ],
     "language": "python",
     "metadata": {},
     "outputs": [],
     "prompt_number": 5
    },
    {
     "cell_type": "markdown",
     "metadata": {},
     "source": [
      "\n",
      "<img src=\"/files/PDBFixerHydrogenScreenShot\" width=\"30%\" style=\"float: right; padding: 0.7em;\"/>\n",
      "\n",
      "PDBFixer will appear in a different window.  You will notice that it takes you through a series of steps to prepare the desired PDB file for an MD simulation.  For this example, we are just going to run one chain of ubiquitin.  Use the parameters below to generate a usable PDB file for an MD simulation:\n",
      "\n",
      "<ol>\n",
      "<li> <b>Load File</b>:  Select \"Download a file from RCSB\" and use PDB Identifier 1xd3</li>\n",
      "<li> <b>Select Chains</b>:  Only check the box for chain 4, a protein of 75 residues</li>\n",
      "<li> <b>Add Heavy Atoms</b>:  PDBFixer will indicate that GLU 24 is missing 4 atoms (CG, CD, OE1, OE2) and GLU 75 is missing 1 atom (OXT).  Click \"Continue\" to add these atoms.</li>\n",
      "<li> <b>Add Water/Hydrogens</b>:  Here we have the option of deleting heterogens (any molecules that are not standard amino acids), adding hydrogens, and adding a water box.  \n",
      "    <ul>\n",
      "    <li>From the drop-down menu, select \"Delete all heterogens.\"</li>  \n",
      "    <li>Check the box for \"Add hydrogens\" and set the pH to 7.0 (default).</li>  \n",
      "    <li>Our simulations will use an implicit solvent model, so leave the checkbox for \"Add water\" UNCHECKED.  See figure to the right.</li>\n",
      "    </ul>\n",
      "    </li>\n",
      "<li> <b>Save File</b>: Save the file.  The default name is output.pdb.</li>\n",
      " <ol>\n"
     ]
    },
    {
     "cell_type": "markdown",
     "metadata": {},
     "source": [
      "<div class=\"chaptertitle\"><h2>2. Setting Up and Running Your Simulation in OpenMM</h2></div>"
     ]
    },
    {
     "cell_type": "markdown",
     "metadata": {},
     "source": [
      "<a href=\"http://openmm.org\">OpenMM</a> is a high-performance toolkit for molecular simulation.  It can be used as a stand-alone application or as a library to be integrated into another program.  In this example, we will focus on using it for running simulations."
     ]
    },
    {
     "cell_type": "markdown",
     "metadata": {},
     "source": [
      "<div class=\"exampletitle\">\n",
      "<h4>Exercise: Set Up and Run a Simulation of Ubiquitin</h4>\n",
      "</div>\n",
      "<br/>\n",
      "\n",
      "<p>The script below will simulate that one chain of ubiquitin that you extracted using PDBFixer for 50,000(??) timesteps.  Our goal in this exercise is to use OpenMM to generate two trajectories for comparison, so we will not delve into the details of the script.  If you want to learn more about the commands and parameters, please consult the OpenMM Users Guide.  </p> \n",
      "\n",
      "<p>In this simulation, the timestep is set to 2.0 femtoseconds, and the AMBER99SB (with improved side chain torsions) force field is used, along with the GBSA-OBC implicit solvation model.  The resulting trajectory is saved to the file \"ImplicitOutput1.pdb.\"</p> \n",
      "\n",
      "\n",
      "<br/><div class=\"tip\">\n",
      "<b>Shortcut:</b> Depending on your GPU/CPU, it can take up to an hour or so to generate the two trajectories.  We provide two sample trajectories that you can use for analysis, if you only want to take the time to generate one trajectory or wish to skip this step entirely.\n",
      "</div>\n",
      "<br/>\n",
      "\n",
      "To generate the simulation:\n",
      "<ol>\n",
      "\n",
      "<li><b>Update the input file name:</b>  The default output file from PDBFixer is output.pdb.  This is used as the input to OpenMM, as indicated by the line <i>pdb = app.PDBFile('output.pdb')</i> in the script below.  If you saved the PDBFixer output under a different file name, update the line to reflect the new file name.</li>\n",
      "\n",
      "<br/><li><b>Designate hardware to run on:</b> The script instructs the simulation to run on the CPU.  If you have CUDA and/or OpenCL installed to take advantage of your GPU, you can change the script to run on the GPU.  Find the line <i>platform = mm.Platform.getPlatformByName('CPU')</i> and change 'CPU' to 'CUDA' or 'OpenCL,' depending on which you want to use.</li>      \n",
      "\n",
      "<li><b>Run the cell:</b>  Run the script.  Depending on your GPU/CPU, this could take in the tens of minutes.  A line is printed every 500 timesteps, so you can monitor the progress of the simulation.  When the simulation is completed, \"Done!\" is printed out.</li>\n",
      "</ol>"
     ]
    },
    {
     "cell_type": "code",
     "collapsed": false,
     "input": [
      "from __future__ import print_function\n",
      "from simtk.openmm import app\n",
      "import simtk.openmm as mm\n",
      "from simtk import unit\n",
      "from sys import stdout\n",
      "\n",
      "pdb = app.PDBFile('output.pdb')\n",
      "\n",
      "forcefield = app.ForceField('amber99sbildn.xml', 'amber99_obc.xml')\n",
      "\n",
      "system = forcefield.createSystem(pdb.topology, \n",
      "    nonbondedMethod=app.CutoffNonPeriodic, nonbondedCutoff=1.0*unit.nanometers, \n",
      "    constraints=app.HBonds)\n",
      "\n",
      "integrator = mm.LangevinIntegrator(300*unit.kelvin, 1.0/unit.picoseconds, \n",
      "    2.0*unit.femtoseconds)\n",
      "integrator.setConstraintTolerance(0.00001)\n",
      "\n",
      "platform = mm.Platform.getPlatformByName('CPU')\n",
      "\n",
      "simulation = app.Simulation(pdb.topology, system, integrator, platform)\n",
      "simulation.context.setPositions(pdb.positions)\n",
      "\n",
      "simulation.reporters = []\n",
      "simulation.reporters.append(app.PDBReporter('ImplicitOutput1.pdb', 100))\n",
      "simulation.reporters.append(app.StateDataReporter(stdout, 500, step=True, \n",
      "    potentialEnergy=True, temperature=True))\n",
      "\n",
      "print('Minimizing...')\n",
      "simulation.minimizeEnergy(maxIterations=100)\n",
      "\n",
      "simulation.context.setVelocitiesToTemperature(300*unit.kelvin)\n",
      "print('Equilibrating...')\n",
      "simulation.step(100)\n",
      "\n",
      "print('Running Production...')\n",
      "simulation.step(50000)\n",
      "del simulation\n",
      "print('Done!')"
     ],
     "language": "python",
     "metadata": {},
     "outputs": [
      {
       "output_type": "stream",
       "stream": "stdout",
       "text": [
        "Minimizing...\n",
        "Equilibrating..."
       ]
      },
      {
       "output_type": "stream",
       "stream": "stdout",
       "text": [
        "\n",
        "Running Production..."
       ]
      },
      {
       "output_type": "stream",
       "stream": "stdout",
       "text": [
        "\n",
        "#\"Step\",\"Potential Energy (kJ/mole)\",\"Temperature (K)\""
       ]
      },
      {
       "output_type": "stream",
       "stream": "stdout",
       "text": [
        "\n"
       ]
      },
      {
       "output_type": "stream",
       "stream": "stdout",
       "text": [
        "500,-12094.792439579076,261.1677694320969\n"
       ]
      },
      {
       "output_type": "stream",
       "stream": "stdout",
       "text": [
        "1000,-11500.160948605808,297.74494173846637\n"
       ]
      },
      {
       "output_type": "stream",
       "stream": "stdout",
       "text": [
        "1500,-11516.724195225099,311.1092257381287\n"
       ]
      },
      {
       "output_type": "stream",
       "stream": "stdout",
       "text": [
        "2000,-11513.918806287405,301.0606807554367\n"
       ]
      },
      {
       "output_type": "stream",
       "stream": "stdout",
       "text": [
        "2500,-11395.963917533263,305.55727419939535\n"
       ]
      },
      {
       "output_type": "stream",
       "stream": "stdout",
       "text": [
        "3000,-11599.5782017999,324.718861176248\n"
       ]
      },
      {
       "output_type": "stream",
       "stream": "stdout",
       "text": [
        "3500,-11357.246534455924,307.2941374069323\n"
       ]
      },
      {
       "output_type": "stream",
       "stream": "stdout",
       "text": [
        "4000,-11375.905636168733,311.73783772162346\n"
       ]
      },
      {
       "output_type": "stream",
       "stream": "stdout",
       "text": [
        "4500,-11290.052660508016,290.94342561376664\n"
       ]
      },
      {
       "output_type": "stream",
       "stream": "stdout",
       "text": [
        "5000,-11242.147634293859,310.58355334654135\n"
       ]
      },
      {
       "output_type": "stream",
       "stream": "stdout",
       "text": [
        "5500,-11388.29998164226,310.6161784154829\n"
       ]
      },
      {
       "output_type": "stream",
       "stream": "stdout",
       "text": [
        "6000,-11486.392748909431,305.6194313819692\n"
       ]
      },
      {
       "output_type": "stream",
       "stream": "stdout",
       "text": [
        "6500,-11440.011959814878,291.08326732841465\n"
       ]
      },
      {
       "output_type": "stream",
       "stream": "stdout",
       "text": [
        "7000,-11484.629907727014,309.64198870237493\n"
       ]
      },
      {
       "output_type": "stream",
       "stream": "stdout",
       "text": [
        "7500,-11375.599935294491,298.1529974041604\n"
       ]
      },
      {
       "output_type": "stream",
       "stream": "stdout",
       "text": [
        "8000,-11632.54123937459,304.5126094188782\n"
       ]
      },
      {
       "output_type": "stream",
       "stream": "stdout",
       "text": [
        "8500,-11582.552394113722,309.439890314153\n"
       ]
      },
      {
       "output_type": "stream",
       "stream": "stdout",
       "text": [
        "9000,-11466.156934749917,305.7087644764339\n"
       ]
      },
      {
       "output_type": "stream",
       "stream": "stdout",
       "text": [
        "9500,-11458.529066076999,311.6040870011205\n"
       ]
      },
      {
       "output_type": "stream",
       "stream": "stdout",
       "text": [
        "10000,-11392.131509192255,305.1507892183617\n"
       ]
      },
      {
       "output_type": "stream",
       "stream": "stdout",
       "text": [
        "10500,-11679.231321855958,301.55696388653774\n"
       ]
      },
      {
       "output_type": "stream",
       "stream": "stdout",
       "text": [
        "11000,-11432.762042181039,292.1764280582277\n"
       ]
      },
      {
       "output_type": "stream",
       "stream": "stdout",
       "text": [
        "11500,-11692.689085872753,302.7032520018633\n"
       ]
      },
      {
       "output_type": "stream",
       "stream": "stdout",
       "text": [
        "12000,-11565.764338389934,314.66066141968764\n"
       ]
      },
      {
       "output_type": "stream",
       "stream": "stdout",
       "text": [
        "12500,-11402.847532332682,314.34272235548093\n"
       ]
      },
      {
       "output_type": "stream",
       "stream": "stdout",
       "text": [
        "13000,-11319.766218154351,309.481334157454\n"
       ]
      },
      {
       "output_type": "stream",
       "stream": "stdout",
       "text": [
        "13500,-11674.825605417202,296.82981555510014\n"
       ]
      },
      {
       "output_type": "stream",
       "stream": "stdout",
       "text": [
        "14000,-11556.463154528908,294.909858692473\n"
       ]
      },
      {
       "output_type": "stream",
       "stream": "stdout",
       "text": [
        "14500,-11430.549049230332,303.2959769278467\n"
       ]
      },
      {
       "output_type": "stream",
       "stream": "stdout",
       "text": [
        "15000,-11480.379109882328,289.4452667228259\n"
       ]
      },
      {
       "output_type": "stream",
       "stream": "stdout",
       "text": [
        "15500,-11789.757104834487,305.4206942621605\n"
       ]
      },
      {
       "output_type": "stream",
       "stream": "stdout",
       "text": [
        "16000,-11716.122227427048,299.1379900930575\n"
       ]
      },
      {
       "output_type": "stream",
       "stream": "stdout",
       "text": [
        "16500,-11595.626316421944,287.49035236796544\n"
       ]
      },
      {
       "output_type": "stream",
       "stream": "stdout",
       "text": [
        "17000,-11510.283064833962,302.9393366720852\n"
       ]
      },
      {
       "output_type": "stream",
       "stream": "stdout",
       "text": [
        "17500,-11368.811318070355,306.89306291261323\n"
       ]
      },
      {
       "output_type": "stream",
       "stream": "stdout",
       "text": [
        "18000,-11470.456620061632,308.6209356270505\n"
       ]
      },
      {
       "output_type": "stream",
       "stream": "stdout",
       "text": [
        "18500,-11455.89316384108,299.16947015044406\n"
       ]
      },
      {
       "output_type": "stream",
       "stream": "stdout",
       "text": [
        "19000,-11291.454638233407,293.52675892614036\n"
       ]
      },
      {
       "output_type": "stream",
       "stream": "stdout",
       "text": [
        "19500,-11575.920807447885,308.2121849302818\n"
       ]
      },
      {
       "output_type": "stream",
       "stream": "stdout",
       "text": [
        "20000,-11428.322529376159,297.02489742440014\n"
       ]
      },
      {
       "output_type": "stream",
       "stream": "stdout",
       "text": [
        "20500,-11691.897798610915,301.656576622161\n"
       ]
      },
      {
       "output_type": "stream",
       "stream": "stdout",
       "text": [
        "21000,-11649.372633989791,298.2474166498436\n"
       ]
      },
      {
       "output_type": "stream",
       "stream": "stdout",
       "text": [
        "21500,-11463.371543380155,306.284134630977\n"
       ]
      },
      {
       "output_type": "stream",
       "stream": "stdout",
       "text": [
        "22000,-11409.680006726796,314.5289392021661\n"
       ]
      },
      {
       "output_type": "stream",
       "stream": "stdout",
       "text": [
        "22500,-11603.488887806201,317.63844515986307\n"
       ]
      },
      {
       "output_type": "stream",
       "stream": "stdout",
       "text": [
        "23000,-11305.845090571285,310.7806791031793\n"
       ]
      },
      {
       "output_type": "stream",
       "stream": "stdout",
       "text": [
        "23500,-11724.709903324318,303.8957396597489\n"
       ]
      },
      {
       "output_type": "stream",
       "stream": "stdout",
       "text": [
        "24000,-11585.252162812896,300.92788504564743\n"
       ]
      },
      {
       "output_type": "stream",
       "stream": "stdout",
       "text": [
        "24500,-11642.657514188882,298.2897324564047\n"
       ]
      },
      {
       "output_type": "stream",
       "stream": "stdout",
       "text": [
        "25000,-11772.312839281512,299.88379608806207\n"
       ]
      },
      {
       "output_type": "stream",
       "stream": "stdout",
       "text": [
        "25500,-11507.418645155798,300.8884784573048\n"
       ]
      },
      {
       "output_type": "stream",
       "stream": "stdout",
       "text": [
        "26000,-11664.573288546098,306.7651442401183\n"
       ]
      },
      {
       "output_type": "stream",
       "stream": "stdout",
       "text": [
        "26500,-11506.41646104396,289.5292219378607\n"
       ]
      },
      {
       "output_type": "stream",
       "stream": "stdout",
       "text": [
        "27000,-11379.541887084544,302.4155142752031\n"
       ]
      },
      {
       "output_type": "stream",
       "stream": "stdout",
       "text": [
        "27500,-11537.03459489673,305.85628082554035\n"
       ]
      },
      {
       "output_type": "stream",
       "stream": "stdout",
       "text": [
        "28000,-11419.108352148029,298.53686844887017\n"
       ]
      },
      {
       "output_type": "stream",
       "stream": "stdout",
       "text": [
        "28500,-11613.72889628466,320.0331025987257\n"
       ]
      },
      {
       "output_type": "stream",
       "stream": "stdout",
       "text": [
        "29000,-11503.224983116648,309.180362024244\n"
       ]
      },
      {
       "output_type": "stream",
       "stream": "stdout",
       "text": [
        "29500,-11599.251304842179,303.91926776063224\n"
       ]
      },
      {
       "output_type": "stream",
       "stream": "stdout",
       "text": [
        "30000,-11533.23830121733,298.81898142350394\n"
       ]
      },
      {
       "output_type": "stream",
       "stream": "stdout",
       "text": [
        "30500,-11444.517450546722,302.11328481788183\n"
       ]
      },
      {
       "output_type": "stream",
       "stream": "stdout",
       "text": [
        "31000,-11741.472995060249,311.9161035555084\n"
       ]
      },
      {
       "output_type": "stream",
       "stream": "stdout",
       "text": [
        "31500,-11648.111090672923,298.68552623783887\n"
       ]
      },
      {
       "output_type": "stream",
       "stream": "stdout",
       "text": [
        "32000,-11594.88762078121,301.88033041793176\n"
       ]
      },
      {
       "output_type": "stream",
       "stream": "stdout",
       "text": [
        "32500,-11513.47554777602,293.1959817688463\n"
       ]
      },
      {
       "output_type": "stream",
       "stream": "stdout",
       "text": [
        "33000,-11675.775232108987,305.95320741626085\n"
       ]
      },
      {
       "output_type": "stream",
       "stream": "stdout",
       "text": [
        "33500,-11470.398269133326,291.7347641900124\n"
       ]
      },
      {
       "output_type": "stream",
       "stream": "stdout",
       "text": [
        "34000,-11708.075905272839,302.9397633393439\n"
       ]
      },
      {
       "output_type": "stream",
       "stream": "stdout",
       "text": [
        "34500,-11800.775437341968,306.07948920459324\n"
       ]
      },
      {
       "output_type": "stream",
       "stream": "stdout",
       "text": [
        "35000,-11692.837470269806,290.08318049258645\n"
       ]
      },
      {
       "output_type": "stream",
       "stream": "stdout",
       "text": [
        "35500,-11719.347280483278,309.14591176198195\n"
       ]
      },
      {
       "output_type": "stream",
       "stream": "stdout",
       "text": [
        "36000,-11320.109223184181,297.69220506508344\n"
       ]
      },
      {
       "output_type": "stream",
       "stream": "stdout",
       "text": [
        "36500,-11386.811973502216,300.34412866194174\n"
       ]
      },
      {
       "output_type": "stream",
       "stream": "stdout",
       "text": [
        "37000,-11289.422559512943,301.56595110729944\n"
       ]
      },
      {
       "output_type": "stream",
       "stream": "stdout",
       "text": [
        "37500,-11334.610994048318,314.6646323724758\n"
       ]
      },
      {
       "output_type": "stream",
       "stream": "stdout",
       "text": [
        "38000,-11472.537511687387,308.93613433452873\n"
       ]
      },
      {
       "output_type": "stream",
       "stream": "stdout",
       "text": [
        "38500,-11595.280191808464,305.7251290669311\n"
       ]
      },
      {
       "output_type": "stream",
       "stream": "stdout",
       "text": [
        "39000,-11818.172585033088,304.1082626415779\n"
       ]
      },
      {
       "output_type": "stream",
       "stream": "stdout",
       "text": [
        "39500,-11527.190653735199,295.5818342667046\n"
       ]
      },
      {
       "output_type": "stream",
       "stream": "stdout",
       "text": [
        "40000,-11668.308496147103,308.7340614938641\n"
       ]
      },
      {
       "output_type": "stream",
       "stream": "stdout",
       "text": [
        "40500,-11574.518315190486,299.48835430178804\n"
       ]
      },
      {
       "output_type": "stream",
       "stream": "stdout",
       "text": [
        "41000,-11616.77365507432,301.5491728699988\n"
       ]
      },
      {
       "output_type": "stream",
       "stream": "stdout",
       "text": [
        "41500,-11574.793438093458,298.77627155393645\n"
       ]
      },
      {
       "output_type": "stream",
       "stream": "stdout",
       "text": [
        "42000,-11494.305353201617,295.5543645478554\n"
       ]
      },
      {
       "output_type": "stream",
       "stream": "stdout",
       "text": [
        "42500,-11606.043700472006,317.43065417590316\n"
       ]
      },
      {
       "output_type": "stream",
       "stream": "stdout",
       "text": [
        "43000,-11616.910788026775,296.52951710362447\n"
       ]
      },
      {
       "output_type": "stream",
       "stream": "stdout",
       "text": [
        "43500,-11658.841518056244,300.14306726930903\n"
       ]
      },
      {
       "output_type": "stream",
       "stream": "stdout",
       "text": [
        "44000,-11801.081104741823,298.7014619197583\n"
       ]
      },
      {
       "output_type": "stream",
       "stream": "stdout",
       "text": [
        "44500,-11450.516024992508,293.14823406625703\n"
       ]
      },
      {
       "output_type": "stream",
       "stream": "stdout",
       "text": [
        "45000,-11519.282829502034,311.44908707905836\n"
       ]
      },
      {
       "output_type": "stream",
       "stream": "stdout",
       "text": [
        "45500,-11709.165832753344,306.1575449307849\n"
       ]
      },
      {
       "output_type": "stream",
       "stream": "stdout",
       "text": [
        "46000,-11512.317774344656,290.0250539939327\n"
       ]
      },
      {
       "output_type": "stream",
       "stream": "stdout",
       "text": [
        "46500,-11500.970311676385,302.2891625120894\n"
       ]
      },
      {
       "output_type": "stream",
       "stream": "stdout",
       "text": [
        "47000,-11678.185402280775,313.90998605280186\n"
       ]
      },
      {
       "output_type": "stream",
       "stream": "stdout",
       "text": [
        "47500,-11687.02487869794,295.95360067662665\n"
       ]
      },
      {
       "output_type": "stream",
       "stream": "stdout",
       "text": [
        "48000,-11559.05750466308,305.96508761819393\n"
       ]
      },
      {
       "output_type": "stream",
       "stream": "stdout",
       "text": [
        "48500,-11533.6495585663,297.93782633505407\n"
       ]
      },
      {
       "output_type": "stream",
       "stream": "stdout",
       "text": [
        "49000,-11532.478828665317,296.95359242183565\n"
       ]
      },
      {
       "output_type": "stream",
       "stream": "stdout",
       "text": [
        "49500,-11603.78696114024,303.29370606774165\n"
       ]
      },
      {
       "output_type": "stream",
       "stream": "stdout",
       "text": [
        "50000,-11488.257739240398,310.39455723546433\n"
       ]
      },
      {
       "output_type": "stream",
       "stream": "stdout",
       "text": [
        "Done!\n"
       ]
      }
     ],
     "prompt_number": 10
    },
    {
     "cell_type": "markdown",
     "metadata": {},
     "source": [
      "<div class=\"tip\">\n",
      "<b>Tip:</b> The commands to set up and run OpenMM simulations are provided via a Python script, as shown above.  You don't need to know any Python to set up and run simulations in OpenMM, though!  OpenMM comes with example scripts that can be easily modified, and the <a href=\"https://builder.openmm.org\">ScriptBuilder</a> web application provides an easy way to generate new scripts.\n",
      "</div>\n",
      "\n"
     ]
    },
    {
     "cell_type": "markdown",
     "metadata": {},
     "source": [
      "<div class=\"exampletitle\">\n",
      "<h4>Exercise: Generate a Second Trajectory of Ubiquitin</h4>\n",
      "</div>\n",
      "\n",
      "<p>To generate a second trajectory, update the script above so that the trajectory is saved to a new file:\n",
      "<ol>\n",
      "\n",
      "<li><b>Update the output file name:</b> Change the line <i>simulation.reporters.append(app.PDBReporter('ImplicitOutput1.pdb', 100))</i> so that ImplicitOutput1.pdb becomes ImplicitOutput<b>2</b>.pdb.</li>\n",
      "\n",
      "<br/><li><b>Run the cell</b></li>\n",
      "</ol>\n"
     ]
    },
    {
     "cell_type": "markdown",
     "metadata": {},
     "source": [
      "<div class=\"chaptertitle\"><h2>3. Comparing and Contrasting Two MD Trajectories Using MDTraj</h2></div>"
     ]
    },
    {
     "cell_type": "markdown",
     "metadata": {},
     "source": [
      "<a href=\"http://mdtraj.org\">MDTraj</a> is a Python library that allows users to manipulate and analyze molecular dynamics (MD) trajectories.  In this tutorial, we will show how to use MDTraj to compute the root mean square deviation (RMSD) and dihedral angles, just two of the many quantities that can be extracted using MDTraj.  "
     ]
    },
    {
     "cell_type": "markdown",
     "metadata": {},
     "source": [
      "<div class=\"exampletitle\">\n",
      "<h4>Exercise: Load and Examine Trajectory Properties</h4>\n",
      "</div>\n",
      "\n",
      "<ol>\n",
      "<li><b>Import libraries:</b> We first need to import a few libraries, including that for MDTraj.  Run the cell below to do that.  </li>\n",
      "</ol>"
     ]
    },
    {
     "cell_type": "code",
     "collapsed": false,
     "input": [
      "#Import the MDTraj and Numpy libraries needed for this tutorial\n",
      "import mdtraj\n",
      "import numpy\n",
      "\n",
      "\n",
      "#Import the graphics library to display results from MDTraj\n",
      "%pylab inline\n",
      "import matplotlib.pyplot as plt"
     ],
     "language": "python",
     "metadata": {},
     "outputs": [
      {
       "output_type": "stream",
       "stream": "stdout",
       "text": [
        "Populating the interactive namespace from numpy and matplotlib\n"
       ]
      }
     ],
     "prompt_number": 13
    },
    {
     "cell_type": "markdown",
     "metadata": {},
     "source": [
      "<ol start=\"2\">\n",
      "<li><b>Load trajectories:</b>  Next we need to load the two trajectories. In our case, these were saved as PDB files and we will associate them with the trajectory objects <i>traj1</i> and <i>traj2</i>.  Note that MDTraj supports many MD formats, including xtc, trr, dcd, binpos, netcdf, etc. \n",
      "\n",
      "<ul>\n",
      "<li> <i>Update the input trajectory file names:</i> If you ran the simulations yourself and did not use the recommended file names OR if you are using the provided trajectory files (ImplicitOutputProvided1.pdb, ImplicitOutputProvided2.pdb), then you need to update the names in the load commands below to reflect that.</li>\n",
      "\n",
      "<br/><li> <i>Update the file name for the static structure:</i> This is the file name you used for the output from PDBFixer.  By default, this is output.pdf.  If you used a different name for the PDBFixer output file, you need to update that in the load commands below.</li>\n",
      "</li>\n",
      "</ul>\n",
      "\n",
      "<li><b>Run the cell:</b> When the loading is complete, you will see the message \"Trajectories loaded!\".</li> \n",
      "</ol>\n"
     ]
    },
    {
     "cell_type": "code",
     "collapsed": false,
     "input": [
      "traj1 = mdtraj.load('ImplicitOutput1.pdb', top='output.pdb')\n",
      "traj2 = mdtraj.load('ImplicitOutput2.pdb', top='output.pdb')\n",
      "print ('Trajectories loaded!')"
     ],
     "language": "python",
     "metadata": {},
     "outputs": [
      {
       "output_type": "stream",
       "stream": "stdout",
       "text": [
        "Trajectories loaded!\n"
       ]
      }
     ],
     "prompt_number": 15
    },
    {
     "cell_type": "markdown",
     "metadata": {},
     "source": [
      "<ol start=\"4\">\n",
      "<li> <b>Query trajectories:</b> We can query any trajectory object by just writing its name into a cell and running the cell. This will give us information such as the size of the trajectory and the number of atoms. In the cell below, we show how to get the information for traj1.  \n",
      "\n",
      "<br/>Update the cell to print out information for traj2.  Do they have the same number of frames and atoms?  (They should!  The only difference should be in the location for the unitcells.)   </li>\n",
      "</ol>"
     ]
    },
    {
     "cell_type": "code",
     "collapsed": false,
     "input": [
      "traj1"
     ],
     "language": "python",
     "metadata": {},
     "outputs": [
      {
       "metadata": {},
       "output_type": "pyout",
       "prompt_number": 21,
       "text": [
        "<mdtraj.Trajectory with 501 frames, 1224 atoms, 75 residues, and unitcells at 0xa3a8670>"
       ]
      }
     ],
     "prompt_number": 21
    },
    {
     "cell_type": "markdown",
     "metadata": {},
     "source": [
      "<div class=\"exampletitle\">\n",
      "<h4>Exercise: Comparing the Root Mean Square Deviation (RMSD) of Two Trajectories</h4>\n",
      "</div>\n",
      "\n",
      "<br/>One way we might want to analyze our trajectories is by performing a Root Mean Squared Deviation (RMSD) calculation of the entire trajectory.  \n",
      "\n",
      "<ol>\n",
      "<li> <b>Compute the RMSD:</b>  We can use the <i>rmsd</i> command, as shown below, to compute the differences between each frame of a trajectory and the first frame (frame 0) of that trajectory.  Run the cell below to generate the RMSD for both traj1 and traj2.</li>\n",
      "</ol>"
     ]
    },
    {
     "cell_type": "code",
     "collapsed": false,
     "input": [
      "# The rmsd method has the following format: \n",
      "#       mdtraj.rmsd(target, reference, frame=0, [optional]atom_indices=None)\n",
      "# where you are comparing each frame of the target trajectory with the specified frame from the reference trajectory\n",
      "\n",
      "traj1rmsd = mdtraj.rmsd(traj1, traj1, frame=0)\n",
      "traj2rmsd = mdtraj.rmsd(traj2, traj2, frame=0)\n",
      "print ('RMSD computed')"
     ],
     "language": "python",
     "metadata": {},
     "outputs": [
      {
       "output_type": "stream",
       "stream": "stdout",
       "text": [
        "RMSD computed\n"
       ]
      }
     ],
     "prompt_number": 29
    },
    {
     "cell_type": "markdown",
     "metadata": {},
     "source": [
      "<ol start=\"2\">\n",
      "<li> <b>Visualize the RMSD:</b> We could examine the RMSD data, which is stored in the objects <i>traj1rmsd</i> and <i>traj2rmsd</i>, but a visual representation may enable us to distinguish patterns more readily.  \n",
      "\n",
      "Run the cell below to display the RMSD for the two trajectories.  Note:  We use a handy library called matplotlib for easy-to-use graphing.  This was one of the libraries we imported earlier (import matplotlib.pyplot as plt). This command only needs to be run once within a given notebook."
     ]
    },
    {
     "cell_type": "code",
     "collapsed": false,
     "input": [
      "#Let's plot the raw data for the rmsd.\n",
      "plt.plot(traj1rmsd, color='blue')\n",
      "plt.plot(traj2rmsd, color='red')\n",
      "plt.xlabel('Time')\n",
      "plt.ylabel('RMSD(nm)')\n",
      "plt.title('RMSD')\n",
      "plt.show()"
     ],
     "language": "python",
     "metadata": {},
     "outputs": [
      {
       "metadata": {},
       "output_type": "display_data",
       "png": "[encoded data removed]",
       "text": [
        "<matplotlib.figure.Figure at 0xa272670>"
       ]
      }
     ],
     "prompt_number": 25
    },
    {
     "cell_type": "markdown",
     "metadata": {},
     "source": [
      "[ADD IN QUESTIONS FOR USER TO CONSIDER WHEN EXAMINING THE PLOTS.  PERHAPS INCLUDE ADDITIONAL STEPS TO COMPUTE RMSD FOR ONLY LOOP SECTION]"
     ]
    },
    {
     "cell_type": "markdown",
     "metadata": {},
     "source": [
      "<div class=\"exampletitle\">\n",
      "<h4>Exercise: Plotting and Comparing the Dihedrals of Two Trajectories</h4>\n",
      "</div>\n",
      "\n",
      "<br/>After some initial viewings of the trajectories, you realize that the loop motion for this chain can be quantified using the 4th phi (5th if you start counting from 1;  4th if you start counting from 0) dihedral of the system. Lucky for you, MDTraj can compute phi,psi,chi1,chi2 or pretty much any arbitrary dihedral. \n",
      "\n",
      "<ol>\n",
      "<li><b>Compute the phi dihedrals:</b>  Run the cell below.</li>\n",
      "</ol>"
     ]
    },
    {
     "cell_type": "code",
     "collapsed": false,
     "input": [
      "#The mdtraj.compute_phi function returns two things: \n",
      "# 1) the indices used to compute the phi dihedrals(called indices_list1 and indices_list2 here)\n",
      "# 2) an m*n matrix (called phi_dihed1 and phi_dihed2) which has the m-rows corresponding to the 'm' time points, and n-columns(corresponding to the number of phi dihedrals in the system)\n",
      "\n",
      "indices_list1, phi_dihed1 =  mdtraj.compute_phi(traj1)\n",
      "indices_list2, phi_dihed2 =  mdtraj.compute_phi(traj2)\n",
      "\n",
      "print ('Dihedrals computed')"
     ],
     "language": "python",
     "metadata": {},
     "outputs": [
      {
       "output_type": "stream",
       "stream": "stdout",
       "text": [
        "Dihedrals computed\n"
       ]
      }
     ],
     "prompt_number": 31
    },
    {
     "cell_type": "markdown",
     "metadata": {},
     "source": [
      "<ol>\n",
      "<li> <b>Plot the dihedrals:</b> We can plot the dihedrals using the same method we used for plotting the RMSD. Run the cell below to generate the plots.</li>\n",
      "</ol>"
     ]
    },
    {
     "cell_type": "code",
     "collapsed": false,
     "input": [
      "# Define a variable for the index of the dihedral we want to plot\n",
      "dihedral_wanted = 4\n",
      "\n",
      "# Note the change in the plotting command.  Here we are telling Python that we would like to plot all the \"m\" (row) data \n",
      "# points using the special \":\" symbol.  However, we only want to plot the values from the 4th column (the 4th dihedral). \n",
      "plt.plot(phi_dihed1[:, dihedral_wanted], color='blue')\n",
      "plt.plot(phi_dihed2[:, dihedral_wanted], color='red')\n",
      "\n",
      "plt.ylabel('radians')\n",
      "plt.xlabel('time')\n",
      "plt.show()"
     ],
     "language": "python",
     "metadata": {},
     "outputs": [
      {
       "metadata": {},
       "output_type": "display_data",
       "png": "[encoded data removed]",
       "text": [
        "<matplotlib.figure.Figure at 0x31465350>"
       ]
      }
     ],
     "prompt_number": 32
    },
    {
     "cell_type": "code",
     "collapsed": false,
     "input": [],
     "language": "python",
     "metadata": {},
     "outputs": []
    }
   ],
   "metadata": {}
  }
 ]
}