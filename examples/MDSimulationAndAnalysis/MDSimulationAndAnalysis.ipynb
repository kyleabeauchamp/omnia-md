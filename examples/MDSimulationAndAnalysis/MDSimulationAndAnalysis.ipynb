{
 "metadata": {
  "name": ""
 },
 "nbformat": 3,
 "nbformat_minor": 0,
 "worksheets": [
  {
   "cells": [
    {
     "cell_type": "markdown",
     "metadata": {},
     "source": [
      "<style>\n",
      "div.title {\n",
      "    background-color: #F8E6E0;\n",
      "    border-color: #610B21;\n",
      "    border-left: 20px solid #610B21;\n",
      "    padding: 0.5em;\n",
      "    }\n",
      "div.chaptertitle {\n",
      "    background-color: #F8E6E0;\n",
      "    border-color: #610B21;\n",
      "    border-left: 10px solid #610B21;\n",
      "    padding: 0.5em;\n",
      "    }\n",
      "div.subchaptertitle {\n",
      "    background-color: #F8E6E0;\n",
      "    border-color: #610B21;\n",
      "    border-left: 10px solid #610B21;\n",
      "    padding-left: 0.5em;\n",
      "    padding-top: 0.3em;\n",
      "    padding-bottom: 0.3em;\n",
      "    }\n",
      "div.exampletitle {\n",
      "    background-color: #FCF5EB;\n",
      "    border-color: #F8E6E0;\n",
      "    border-left: 1px solid #F8E6E0;\n",
      "    border-right: 1px solid #F8E6E0;\n",
      "    border-bottom: 1px solid #F8E6E0;\n",
      "    border-top: 1px solid #F8E6E0;\n",
      "    padding-left: 0.5em;\n",
      "    }\n",
      "div.tip {\n",
      "    background-color: #eeeeee;\n",
      "    padding: 1.0em;\n",
      "    }\n",
      "div.code {\n",
      "    background-color: #eeeeee;\n",
      "    padding: 0.3em;\n",
      "    font-family: Courier New, Courier, monospace;\n",
      "    }\n",
      "div.examplelabel {\n",
      "    background-color: #610B21;\n",
      "    font-color: #FFFFFF;\n",
      "    border-color: #F8E6E0;\n",
      "    border-left: 1px solid #F8E6E0;\n",
      "    border-right: 1px solid #F8E6E0;\n",
      "    border-bottom: 1px solid #F8E6E0;\n",
      "    border-top: 1px solid #F8E6E0;\n",
      "    padding-left: 0.5em;\n",
      "    }    \n",
      "</style>\n",
      "<i>Omnia Tutorial</i>"
     ]
    },
    {
     "cell_type": "markdown",
     "metadata": {},
     "source": [
      "<div class=\"title\"><h1>Tutorial 1:  Running and Analyzing Molecular Dynamics (MD) Simulations</h1></div>"
     ]
    },
    {
     "cell_type": "markdown",
     "metadata": {},
     "source": [
      "<h2>Learning Goals</h2>\n",
      "\n",
      "After completing this tutorial, you will be able to:\n",
      "\n",
      "<ol>\n",
      "<li> Use PDBFixer to prepare a molecule from the <a href=\"http://www.rcsb.org/pdb/home/home.do\">Protein Data Bank (PDB)</a> for simulation</li>\n",
      "<li> Use OpenMM to set up and run an implicit solvent simulation using a Langevin integrator </li>\n",
      "<li> Use MDTraj to compare and contrast two molecular dynamic trajectories in terms of RMSD and dihedral angles </li>\n",
      "</ol>"
     ]
    },
    {
     "cell_type": "markdown",
     "metadata": {},
     "source": [
      "<h2>Requirements</h2>\n",
      "In order to run this tutorial, you need to have the following software installed:  [TO BE UPDATED AFTER PACKAGING COMPLETED]\n",
      "\n",
      "<ul>\n",
      "<li> <b>IPython (with IPython Notebook):</b>  This is part of the <a href=\"https://store.continuum.io/cshop/anaconda/\">Anaconda</a> (Python versions 2.7 and later) and <a href=\"https://store.enthought.com/\">Enthought Canopy</a> packages.  If you have either of those installed, you already have IPython and IPython Notebook.  You can also install IPython on your own (see <a href=\"http://ipython.org/ipython-doc/stable/install/install.html\"> http://ipython.org/ipython-doc/stable/install/install.html)</a></li>\n",
      "<li> <b>Omnia X.X:</b> You can also individually install the software packages.  You will need PDBFixer X.X or greater, OpenMM X.X or greater, AND MDTraj X.X or greater.</li>\n",
      "</ul>\n",
      "\n"
     ]
    },
    {
     "cell_type": "markdown",
     "metadata": {},
     "source": [
      "<div class=\"tip\">\n",
      "<b>New IPython Notebook users:</b>  IPython Notebook is a rich, interactive environment for Python.  In this tutorial, all you need to know is that a notebook is organized into boxes or sections referred to as <i>cells</i>.  For any cell with code in it, you can just click on the code and begin editing it. To execute the code, you run the cell by clicking on the \"Run Cell\" (triangle) icon in the menu or typing SHIFT-ENTER in the cell.  \n",
      "\n",
      "<br/>Try running the cell below that says \"print('This is my first IPython Notebook.').\"  You should see the statement \"This is my first IPython Notebook.\" printed below.  Then, click on the print statement in the cell and change the text that is printed out.  Run the cell again.  Did you get a new statement to be printed out?  \n",
      "\n",
      "<br/>For more information about the IPython Notebook, visit <a href=\"http://ipython.org/ipython-doc/stable/notebook/index.html\">http://ipython.org/ipython-doc/stable/notebook/index.html</a>.  \n",
      "</div>"
     ]
    },
    {
     "cell_type": "code",
     "collapsed": false,
     "input": [
      "print('This is my first IPython Notebook.')"
     ],
     "language": "python",
     "metadata": {},
     "outputs": [
      {
       "output_type": "stream",
       "stream": "stdout",
       "text": [
        "This is my first IPython Notebook.\n"
       ]
      }
     ],
     "prompt_number": 4
    },
    {
     "cell_type": "markdown",
     "metadata": {},
     "source": [
      "<div class=\"chaptertitle\"><h2>1. Preparing Your Molecule File for MD using PDBFixer</h2></div>"
     ]
    },
    {
     "cell_type": "markdown",
     "metadata": {},
     "source": [
      "<img src=\"/files/two_state_ubiq.png\" width=\"30%\" style=\"float: right; padding: 0.7em;\"/>"
     ]
    },
    {
     "cell_type": "markdown",
     "metadata": {},
     "source": [
      "The protein that we will be working with is ubiquitin. It's a signaling hub protein that is at the intersection of various signaling pathways in our bodies - misregulation of which has been implicated in neurodegenerative diseases and the onset of cancer.  It is primarily responsible for protein degradation. For more details about ubiquitin, see http://en.wikipedia.org/wiki/Ubiquitin.\n",
      "\n",
      "The crystal structure for ubiquitin can be obtained as a <a href=\"http://www.rcsb.org/pdb/home/home.do\">Protein Data Bank (PDB)</a> file.  PDB files often have a number of problems that must be fixed, though, before they can be used in a molecular dynamics simulation. For instance, they may be missing atoms or include nonstandard residues.  PDBFixer can fix many of these problems in a fully automated way.  [WHAT WEBPAGE TO LINK TO FOR PDBFIXER?]"
     ]
    },
    {
     "cell_type": "markdown",
     "metadata": {},
     "source": [
      "<div class=\"exampletitle\">\n",
      "<h4>Exercise: Create a PDB File for Running a Simulation of Ubiquitin</h4>\n",
      "</div>\n",
      "\n",
      "<p>PDBFixer can be used in three different ways: as a desktop application with a graphical user interface; as a command line application; or as a Python API. We will use the desktop application in this tutorial because of its graphical user interface.  To launch the program, run the cell below.   [SHOULD WE BUNDLE PDBFIXER INTO THE TUTORIAL?  IS THERE A BETTER WAY TO INCORPORATE INTO THE TUTORIAL?] "
     ]
    },
    {
     "cell_type": "code",
     "collapsed": false,
     "input": [
      "%run pdbfixer.py"
     ],
     "language": "python",
     "metadata": {},
     "outputs": [],
     "prompt_number": 1
    },
    {
     "cell_type": "markdown",
     "metadata": {},
     "source": [
      "\n",
      "<img src=\"/files/PDBFixerHydrogenScreenShot.jpg\" width=\"50%\" style=\"float: right; padding: 0.7em;\"/>\n",
      "\n",
      "PDBFixer will appear in a different window.  You will notice that it takes you through a series of steps to prepare the desired PDB file for an MD simulation.  For this example, we are just going to run one chain of ubiquitin.  Use the parameters below to generate a usable PDB file for an MD simulation:\n",
      "\n",
      "<ol>\n",
      "<li> <b>Load File</b>:  Select \"Download a file from RCSB\" and use PDB Identifier 1xd3</li>\n",
      "<li> <b>Select Chains</b>:  Only check the box for chain 4, a protein of 75 residues</li>\n",
      "<li> <b>Add Heavy Atoms</b>:  PDBFixer will indicate that GLU 24 is missing 4 atoms (CG, CD, OE1, OE2) and GLU 75 is missing 1 atom (OXT).  Click \"Continue\" to add these atoms.</li>\n",
      "<li> <b>Add Water/Hydrogens</b>:  Here we have the option of deleting heterogens (any molecules that are not standard amino acids), adding hydrogens, and adding a water box.  \n",
      "    <ul>\n",
      "    <li>From the drop-down menu, select \"Delete all heterogens.\"</li>  \n",
      "    <li>Check the box for \"Add hydrogens\" and set the pH to 7.0 (default).</li>  \n",
      "    <li>Our simulations will use an implicit solvent model, so leave the checkbox for \"Add water\" UNCHECKED.  See figure to the right.</li>\n",
      "    </ul>\n",
      "    </li>\n",
      "<li> <b>Save File</b>: Save the file.  The default name is output.pdb.</li>\n",
      " <ol>\n"
     ]
    },
    {
     "cell_type": "markdown",
     "metadata": {},
     "source": [
      "<div class=\"chaptertitle\"><h2>2. Setting Up and Running Your Simulation in OpenMM</h2></div>"
     ]
    },
    {
     "cell_type": "markdown",
     "metadata": {},
     "source": [
      "<a href=\"http://openmm.org\">OpenMM</a> is a high-performance toolkit for molecular simulation.  It can be used as a stand-alone application or as a library to be integrated into another program.  In this example, we will focus on using it for running simulations."
     ]
    },
    {
     "cell_type": "markdown",
     "metadata": {},
     "source": [
      "<div class=\"exampletitle\">\n",
      "<h4>Exercise: Set Up and Run a Simulation of Ubiquitin</h4>\n",
      "</div>\n",
      "<br/>\n",
      "\n",
      "<p>The script below will simulate that one chain of ubiquitin that you extracted using PDBFixer for 50,000(??) timesteps.  Our goal in this exercise is to use OpenMM to generate two trajectories for comparison, so we will not delve into the details of the script.  If you want to learn more about the commands and parameters, please consult the OpenMM Users Guide.  </p> \n",
      "\n",
      "<p>In this simulation, the timestep is set to 2.0 femtoseconds, and the AMBER99SB (with improved side chain torsions) force field is used, along with the GBSA-OBC implicit solvation model.  The resulting trajectory is saved to the file \"ImplicitOutput1.pdb.\"</p> \n",
      "\n",
      "\n",
      "<br/><div class=\"tip\">\n",
      "<b>Shortcut:</b> Depending on your GPU/CPU, it can take up to an hour or so to generate the two trajectories.  We provide two sample trajectories (ImplicitOutputSample1.pdb and ImplicitOutputSample2.pdb) that you can use for analysis, if you only want to take the time to generate one trajectory or wish to skip this step entirely.\n",
      "</div>\n",
      "<br/>\n",
      "\n",
      "To generate the simulation:\n",
      "<ol>\n",
      "\n",
      "<li><b>Update the input file name:</b>  The default output file from PDBFixer is output.pdb.  This is used as the input to OpenMM, as indicated by the line <i>pdb = app.PDBFile('output.pdb')</i> in the script below.  If you saved the PDBFixer output under a different file name, replace output.pdb in this line by the new file name.</li>\n",
      "\n",
      "<br/><li><b>Designate hardware to run on:</b> The script instructs the simulation to run on the CPU.  If you have CUDA and/or OpenCL installed to take advantage of your GPU, you can change the script to run on the GPU.  Find the line <i>platform = mm.Platform.getPlatformByName('CPU')</i> and change 'CPU' to 'CUDA' or 'OpenCL,' depending on which you want to use.</li>      \n",
      "\n",
      "<li><b>Run the cell:</b>  Run the script.  Depending on your GPU/CPU, this could take in the tens of minutes.  A line is printed every 500 timesteps, so you can monitor the progress of the simulation.  When the simulation is completed, \"Done!\" is printed out.</li>\n",
      "</ol>"
     ]
    },
    {
     "cell_type": "code",
     "collapsed": false,
     "input": [
      "from __future__ import print_function\n",
      "from simtk.openmm import app\n",
      "import simtk.openmm as mm\n",
      "from simtk import unit\n",
      "from sys import stdout\n",
      "\n",
      "pdb = app.PDBFile('output.pdb')\n",
      "\n",
      "forcefield = app.ForceField('amber99sbildn.xml', 'amber99_obc.xml')\n",
      "\n",
      "system = forcefield.createSystem(pdb.topology, \n",
      "    nonbondedMethod=app.CutoffNonPeriodic, nonbondedCutoff=1.0*unit.nanometers, \n",
      "    constraints=app.HBonds)\n",
      "\n",
      "integrator = mm.LangevinIntegrator(300*unit.kelvin, 1.0/unit.picoseconds, \n",
      "    2.0*unit.femtoseconds)\n",
      "integrator.setConstraintTolerance(0.00001)\n",
      "\n",
      "platform = mm.Platform.getPlatformByName('CPU')\n",
      "\n",
      "simulation = app.Simulation(pdb.topology, system, integrator, platform)\n",
      "simulation.context.setPositions(pdb.positions)\n",
      "\n",
      "simulation.reporters = []\n",
      "simulation.reporters.append(app.PDBReporter('ImplicitOutput1.pdb', 100))\n",
      "simulation.reporters.append(app.StateDataReporter(stdout, 500, step=True, \n",
      "    potentialEnergy=True, temperature=True))\n",
      "\n",
      "print('Minimizing...')\n",
      "simulation.minimizeEnergy(maxIterations=100)\n",
      "\n",
      "simulation.context.setVelocitiesToTemperature(300*unit.kelvin)\n",
      "print('Equilibrating...')\n",
      "simulation.step(100)\n",
      "\n",
      "print('Running Production...')\n",
      "simulation.step(50000)\n",
      "del simulation\n",
      "print('Done!')"
     ],
     "language": "python",
     "metadata": {},
     "outputs": [
      {
       "output_type": "stream",
       "stream": "stdout",
       "text": [
        "Minimizing...\n",
        "Equilibrating..."
       ]
      },
      {
       "output_type": "stream",
       "stream": "stdout",
       "text": [
        "\n",
        "Running Production..."
       ]
      },
      {
       "output_type": "stream",
       "stream": "stdout",
       "text": [
        "\n",
        "#\"Step\",\"Potential Energy (kJ/mole)\",\"Temperature (K)\""
       ]
      },
      {
       "output_type": "stream",
       "stream": "stdout",
       "text": [
        "\n"
       ]
      },
      {
       "output_type": "stream",
       "stream": "stdout",
       "text": [
        "500,-10608.605616907247,357.43289266426814\n"
       ]
      },
      {
       "output_type": "stream",
       "stream": "stdout",
       "text": [
        "1000,-11078.739008721554,314.06429272657215\n"
       ]
      },
      {
       "output_type": "stream",
       "stream": "stdout",
       "text": [
        "1500,-11308.798067135798,312.6437791312816\n"
       ]
      },
      {
       "output_type": "stream",
       "stream": "stdout",
       "text": [
        "2000,-11409.290109474787,302.1871064416544\n"
       ]
      },
      {
       "output_type": "stream",
       "stream": "stdout",
       "text": [
        "2500,-11364.855874859812,308.1031633485158\n"
       ]
      },
      {
       "output_type": "stream",
       "stream": "stdout",
       "text": [
        "3000,-11541.376702067857,299.8980294724091\n"
       ]
      },
      {
       "output_type": "stream",
       "stream": "stdout",
       "text": [
        "3500,-11410.416670561488,300.08052789717516\n"
       ]
      },
      {
       "output_type": "stream",
       "stream": "stdout",
       "text": [
        "4000,-11514.243265114525,310.85860586742103\n"
       ]
      },
      {
       "output_type": "stream",
       "stream": "stdout",
       "text": [
        "4500,-11326.437692172036,316.46505272829506\n"
       ]
      },
      {
       "output_type": "stream",
       "stream": "stdout",
       "text": [
        "5000,-11199.56812790255,314.2564318974208\n"
       ]
      },
      {
       "output_type": "stream",
       "stream": "stdout",
       "text": [
        "5500,-11624.323040037558,295.52753544240016\n"
       ]
      },
      {
       "output_type": "stream",
       "stream": "stdout",
       "text": [
        "6000,-11714.6881536109,295.53805285219977\n"
       ]
      },
      {
       "output_type": "stream",
       "stream": "stdout",
       "text": [
        "6500,-11755.47891679031,290.97769771386675\n"
       ]
      },
      {
       "output_type": "stream",
       "stream": "stdout",
       "text": [
        "7000,-11813.866024388994,295.11062264836215\n"
       ]
      },
      {
       "output_type": "stream",
       "stream": "stdout",
       "text": [
        "7500,-11636.221763706617,302.37194807027436\n"
       ]
      },
      {
       "output_type": "stream",
       "stream": "stdout",
       "text": [
        "8000,-11367.134897260588,302.45584946357064\n"
       ]
      },
      {
       "output_type": "stream",
       "stream": "stdout",
       "text": [
        "8500,-11446.737073122618,318.7130880286701\n"
       ]
      },
      {
       "output_type": "stream",
       "stream": "stdout",
       "text": [
        "9000,-11412.049129177827,312.4239407664893\n"
       ]
      },
      {
       "output_type": "stream",
       "stream": "stdout",
       "text": [
        "9500,-11545.153840887046,313.58124908273754\n"
       ]
      },
      {
       "output_type": "stream",
       "stream": "stdout",
       "text": [
        "10000,-11477.83140255677,306.1752840294043\n"
       ]
      },
      {
       "output_type": "stream",
       "stream": "stdout",
       "text": [
        "10500,-11388.415591433182,309.18178952368186\n"
       ]
      },
      {
       "output_type": "stream",
       "stream": "stdout",
       "text": [
        "11000,-11286.368379783147,297.53135609745965\n"
       ]
      },
      {
       "output_type": "stream",
       "stream": "stdout",
       "text": [
        "11500,-11518.978333809075,308.95297064411506\n"
       ]
      },
      {
       "output_type": "stream",
       "stream": "stdout",
       "text": [
        "12000,-11438.246789692686,298.1091959346312\n"
       ]
      },
      {
       "output_type": "stream",
       "stream": "stdout",
       "text": [
        "12500,-11442.644724449428,300.25176750967915\n"
       ]
      },
      {
       "output_type": "stream",
       "stream": "stdout",
       "text": [
        "13000,-11484.814182965913,291.26742005095065\n"
       ]
      },
      {
       "output_type": "stream",
       "stream": "stdout",
       "text": [
        "13500,-11368.431581373065,305.39910099818775\n"
       ]
      },
      {
       "output_type": "stream",
       "stream": "stdout",
       "text": [
        "14000,-11279.998091343125,312.0700115450534\n"
       ]
      },
      {
       "output_type": "stream",
       "stream": "stdout",
       "text": [
        "14500,-11279.456281477287,306.2344289791589\n"
       ]
      },
      {
       "output_type": "stream",
       "stream": "stdout",
       "text": [
        "15000,-11428.210239067845,307.0511283029997\n"
       ]
      },
      {
       "output_type": "stream",
       "stream": "stdout",
       "text": [
        "15500,-11600.498244850143,314.12244070550656\n"
       ]
      },
      {
       "output_type": "stream",
       "stream": "stdout",
       "text": [
        "16000,-11365.548098264404,304.2030821621397\n"
       ]
      },
      {
       "output_type": "stream",
       "stream": "stdout",
       "text": [
        "16500,-11699.027557244732,325.2274626970675\n"
       ]
      },
      {
       "output_type": "stream",
       "stream": "stdout",
       "text": [
        "17000,-11561.02758699602,305.4089052438541\n"
       ]
      },
      {
       "output_type": "stream",
       "stream": "stdout",
       "text": [
        "17500,-11628.141483449343,311.06972123053276\n"
       ]
      },
      {
       "output_type": "stream",
       "stream": "stdout",
       "text": [
        "18000,-11541.370272043825,311.5923441894228\n"
       ]
      },
      {
       "output_type": "stream",
       "stream": "stdout",
       "text": [
        "18500,-11480.042107312493,306.1734323716561\n"
       ]
      },
      {
       "output_type": "stream",
       "stream": "stdout",
       "text": [
        "19000,-11511.696373303555,291.31874036119194\n"
       ]
      },
      {
       "output_type": "stream",
       "stream": "stdout",
       "text": [
        "19500,-11452.207701831649,286.775973495294\n"
       ]
      },
      {
       "output_type": "stream",
       "stream": "stdout",
       "text": [
        "20000,-11546.290417345883,302.97793568074644\n"
       ]
      },
      {
       "output_type": "stream",
       "stream": "stdout",
       "text": [
        "20500,-11516.866498941712,295.1413818409615\n"
       ]
      },
      {
       "output_type": "stream",
       "stream": "stdout",
       "text": [
        "21000,-11532.904973729808,302.87218959771303\n"
       ]
      },
      {
       "output_type": "stream",
       "stream": "stdout",
       "text": [
        "21500,-11544.786049461964,310.44206643744167\n"
       ]
      },
      {
       "output_type": "stream",
       "stream": "stdout",
       "text": [
        "22000,-11349.807336956557,310.66855693695015\n"
       ]
      },
      {
       "output_type": "stream",
       "stream": "stdout",
       "text": [
        "22500,-11184.709474931124,300.11257180323156\n"
       ]
      },
      {
       "output_type": "stream",
       "stream": "stdout",
       "text": [
        "23000,-11299.314439110934,302.35007381034455\n"
       ]
      },
      {
       "output_type": "stream",
       "stream": "stdout",
       "text": [
        "23500,-11320.322486569963,301.5308753519064\n"
       ]
      },
      {
       "output_type": "stream",
       "stream": "stdout",
       "text": [
        "24000,-11472.34570798715,310.14462344789297\n"
       ]
      },
      {
       "output_type": "stream",
       "stream": "stdout",
       "text": [
        "24500,-11420.565464055593,306.7066418766488\n"
       ]
      },
      {
       "output_type": "stream",
       "stream": "stdout",
       "text": [
        "25000,-11434.411681872938,300.7585153761585\n"
       ]
      },
      {
       "output_type": "stream",
       "stream": "stdout",
       "text": [
        "25500,-11350.81989510157,301.12424924751394\n"
       ]
      },
      {
       "output_type": "stream",
       "stream": "stdout",
       "text": [
        "26000,-11532.322214187674,289.52653128659375\n"
       ]
      },
      {
       "output_type": "stream",
       "stream": "stdout",
       "text": [
        "26500,-11556.411778907617,291.6838029928038\n"
       ]
      },
      {
       "output_type": "stream",
       "stream": "stdout",
       "text": [
        "27000,-11424.075987656577,290.7512164909103\n"
       ]
      },
      {
       "output_type": "stream",
       "stream": "stdout",
       "text": [
        "27500,-11389.661369961868,298.2991968277824\n"
       ]
      },
      {
       "output_type": "stream",
       "stream": "stdout",
       "text": [
        "28000,-11626.638553764988,298.849170772078\n"
       ]
      },
      {
       "output_type": "stream",
       "stream": "stdout",
       "text": [
        "28500,-11408.298195834785,299.9287790798704\n"
       ]
      },
      {
       "output_type": "stream",
       "stream": "stdout",
       "text": [
        "29000,-11588.515017061276,311.85936952463135\n"
       ]
      },
      {
       "output_type": "stream",
       "stream": "stdout",
       "text": [
        "29500,-11531.739605442199,290.70175136002774\n"
       ]
      },
      {
       "output_type": "stream",
       "stream": "stdout",
       "text": [
        "30000,-11607.29473156833,301.7770815224668\n"
       ]
      },
      {
       "output_type": "stream",
       "stream": "stdout",
       "text": [
        "30500,-11508.245566567595,306.2883693341494\n"
       ]
      },
      {
       "output_type": "stream",
       "stream": "stdout",
       "text": [
        "31000,-11481.98515483444,310.55144021340624\n"
       ]
      },
      {
       "output_type": "stream",
       "stream": "stdout",
       "text": [
        "31500,-11300.96601977462,303.53060799568647\n"
       ]
      },
      {
       "output_type": "stream",
       "stream": "stdout",
       "text": [
        "32000,-11442.142780559907,317.24392548094704\n"
       ]
      },
      {
       "output_type": "stream",
       "stream": "stdout",
       "text": [
        "32500,-11572.332519129015,300.1660415286197\n"
       ]
      },
      {
       "output_type": "stream",
       "stream": "stdout",
       "text": [
        "33000,-11553.513825779148,300.5748838347068\n"
       ]
      },
      {
       "output_type": "stream",
       "stream": "stdout",
       "text": [
        "33500,-11333.994618498466,298.56399158427126\n"
       ]
      },
      {
       "output_type": "stream",
       "stream": "stdout",
       "text": [
        "34000,-11396.69578444996,301.15219488939385\n"
       ]
      },
      {
       "output_type": "stream",
       "stream": "stdout",
       "text": [
        "34500,-11401.619152343032,300.2881475546161\n"
       ]
      },
      {
       "output_type": "stream",
       "stream": "stdout",
       "text": [
        "35000,-11266.329740300376,300.0750742397021\n"
       ]
      },
      {
       "output_type": "stream",
       "stream": "stdout",
       "text": [
        "35500,-11557.263510358822,307.10105248152024\n"
       ]
      },
      {
       "output_type": "stream",
       "stream": "stdout",
       "text": [
        "36000,-11432.014561919957,285.0250095429084\n"
       ]
      },
      {
       "output_type": "stream",
       "stream": "stdout",
       "text": [
        "36500,-11564.339527928652,304.43889548302735\n"
       ]
      },
      {
       "output_type": "stream",
       "stream": "stdout",
       "text": [
        "37000,-11461.39454404985,312.0567334058574\n"
       ]
      },
      {
       "output_type": "stream",
       "stream": "stdout",
       "text": [
        "37500,-11413.765350792142,293.94138402594376\n"
       ]
      },
      {
       "output_type": "stream",
       "stream": "stdout",
       "text": [
        "38000,-11428.9061839832,303.55745022002856\n"
       ]
      },
      {
       "output_type": "stream",
       "stream": "stdout",
       "text": [
        "38500,-11501.913098194578,310.0835615203382\n"
       ]
      },
      {
       "output_type": "stream",
       "stream": "stdout",
       "text": [
        "39000,-11400.72066634221,301.831183453905\n"
       ]
      },
      {
       "output_type": "stream",
       "stream": "stdout",
       "text": [
        "39500,-11432.537058762395,313.77546287840073\n"
       ]
      },
      {
       "output_type": "stream",
       "stream": "stdout",
       "text": [
        "40000,-11317.506944776513,298.41299278715366\n"
       ]
      },
      {
       "output_type": "stream",
       "stream": "stdout",
       "text": [
        "40500,-11590.23712103768,296.0945358962361\n"
       ]
      },
      {
       "output_type": "stream",
       "stream": "stdout",
       "text": [
        "41000,-11680.216525952275,307.0452347591543\n"
       ]
      },
      {
       "output_type": "stream",
       "stream": "stdout",
       "text": [
        "41500,-11534.943896860012,306.89542151502997\n"
       ]
      },
      {
       "output_type": "stream",
       "stream": "stdout",
       "text": [
        "42000,-11470.172882262761,296.1875954277621\n"
       ]
      },
      {
       "output_type": "stream",
       "stream": "stdout",
       "text": [
        "42500,-11296.405537243232,293.9796793711505\n"
       ]
      },
      {
       "output_type": "stream",
       "stream": "stdout",
       "text": [
        "43000,-11598.912235051406,310.47246698433315\n"
       ]
      },
      {
       "output_type": "stream",
       "stream": "stdout",
       "text": [
        "43500,-11422.174563883349,294.86555886039463\n"
       ]
      },
      {
       "output_type": "stream",
       "stream": "stdout",
       "text": [
        "44000,-11576.563514494012,295.4457052584576\n"
       ]
      },
      {
       "output_type": "stream",
       "stream": "stdout",
       "text": [
        "44500,-11368.975764522225,294.53428737378994\n"
       ]
      },
      {
       "output_type": "stream",
       "stream": "stdout",
       "text": [
        "45000,-11524.086250293778,308.89735142851845\n"
       ]
      },
      {
       "output_type": "stream",
       "stream": "stdout",
       "text": [
        "45500,-11493.717326012242,308.57018648150915\n"
       ]
      },
      {
       "output_type": "stream",
       "stream": "stdout",
       "text": [
        "46000,-11478.114507700873,309.36322751308063\n"
       ]
      },
      {
       "output_type": "stream",
       "stream": "stdout",
       "text": [
        "46500,-11591.970088415725,303.8696193757432\n"
       ]
      },
      {
       "output_type": "stream",
       "stream": "stdout",
       "text": [
        "47000,-11609.420254210823,311.53902856527316\n"
       ]
      },
      {
       "output_type": "stream",
       "stream": "stdout",
       "text": [
        "47500,-11362.934605147402,291.86085792539234\n"
       ]
      },
      {
       "output_type": "stream",
       "stream": "stdout",
       "text": [
        "48000,-11374.986142407906,302.11178716906454\n"
       ]
      },
      {
       "output_type": "stream",
       "stream": "stdout",
       "text": [
        "48500,-11586.735905377143,307.8957747494437\n"
       ]
      },
      {
       "output_type": "stream",
       "stream": "stdout",
       "text": [
        "49000,-11319.75781554616,287.9570437505921\n"
       ]
      },
      {
       "output_type": "stream",
       "stream": "stdout",
       "text": [
        "49500,-11587.35018584425,295.02701272766797\n"
       ]
      },
      {
       "output_type": "stream",
       "stream": "stdout",
       "text": [
        "50000,-11376.593782599215,309.4945927507484\n"
       ]
      },
      {
       "output_type": "stream",
       "stream": "stdout",
       "text": [
        "Done!\n"
       ]
      }
     ],
     "prompt_number": 2
    },
    {
     "cell_type": "markdown",
     "metadata": {},
     "source": [
      "<div class=\"tip\">\n",
      "<b>Tip:</b> The commands to set up and run OpenMM simulations are provided via a Python script, as shown above.  You don't need to know any Python to set up and run simulations in OpenMM, though!  OpenMM comes with example scripts that can be easily modified, and the <a href=\"https://builder.openmm.org\">ScriptBuilder</a> web application provides an easy way to generate new scripts.\n",
      "</div>\n",
      "\n"
     ]
    },
    {
     "cell_type": "markdown",
     "metadata": {},
     "source": [
      "<div class=\"exampletitle\">\n",
      "<h4>Exercise: Generate a Second Trajectory of Ubiquitin</h4>\n",
      "</div>\n",
      "\n",
      "<p>To generate a second trajectory, update the script above so that the trajectory is saved to a new file:\n",
      "<ol>\n",
      "\n",
      "<li><b>Update the output file name:</b> Change the line <i>simulation.reporters.append(app.PDBReporter('ImplicitOutput1.pdb', 100))</i> so that ImplicitOutput1.pdb becomes ImplicitOutput<b>2</b>.pdb.</li>\n",
      "\n",
      "<br/><li><b>Run the cell</b></li>\n",
      "</ol>\n"
     ]
    },
    {
     "cell_type": "markdown",
     "metadata": {},
     "source": [
      "<div class=\"chaptertitle\"><h2>3. Comparing and Contrasting Two MD Trajectories Using MDTraj</h2></div>"
     ]
    },
    {
     "cell_type": "markdown",
     "metadata": {},
     "source": [
      "<a href=\"http://mdtraj.org\">MDTraj</a> is a Python library that allows users to manipulate and analyze molecular dynamics (MD) trajectories.  In this tutorial, we will show how to use MDTraj to compute the root mean square deviation (RMSD) and dihedral angles, just two of the many quantities that can be extracted using MDTraj.  "
     ]
    },
    {
     "cell_type": "markdown",
     "metadata": {},
     "source": [
      "<div class=\"exampletitle\">\n",
      "<h4>Exercise: Load and Examine Trajectory Properties</h4>\n",
      "</div>\n",
      "\n",
      "<ol>\n",
      "<li><b>Import libraries:</b> We first need to import a few libraries, including that for MDTraj.  Run the cell below to do that.  </li>\n",
      "</ol>"
     ]
    },
    {
     "cell_type": "code",
     "collapsed": false,
     "input": [
      "#Import the MDTraj and Numpy libraries needed for this tutorial\n",
      "import mdtraj\n",
      "import numpy\n",
      "\n",
      "\n",
      "#Import the graphics library to display results from MDTraj\n",
      "%pylab inline\n",
      "import matplotlib.pyplot as plt"
     ],
     "language": "python",
     "metadata": {},
     "outputs": [
      {
       "output_type": "stream",
       "stream": "stdout",
       "text": [
        "Populating the interactive namespace from numpy and matplotlib\n"
       ]
      },
      {
       "output_type": "stream",
       "stream": "stderr",
       "text": [
        "C:\\Users\\Joy Ku\\Miniconda3\\lib\\site-packages\\matplotlib\\mathtext.py:46: UserWarning: Due to a bug in pyparsing <= 2.0.0 on Python 3.x, packrat parsing has been disabled.  Mathtext rendering will be much slower as a result.  Install pyparsing 2.0.0 or later to improve performance.\n",
        "  warn(\"Due to a bug in pyparsing <= 2.0.0 on Python 3.x, packrat parsing \"\n"
       ]
      }
     ],
     "prompt_number": 1
    },
    {
     "cell_type": "markdown",
     "metadata": {},
     "source": [
      "<ol start=\"2\">\n",
      "<li><b>Load trajectories:</b>  Next we need to load the two trajectories. In our case, these were saved as PDB files and we will associate them with the trajectory objects <i>traj1</i> and <i>traj2</i>.  Note that MDTraj supports many MD formats, including xtc, trr, dcd, binpos, netcdf, etc. \n",
      "\n",
      "<ul>\n",
      "<li> <i>Update the input trajectory file names:</i> If you ran the simulations yourself and did not use the recommended file names OR if you are using the provided trajectory files (ImplicitOutputSample1.pdb, ImplicitOutputSample2.pdb), then you need to update the names in the load commands below to reflect that.</li>\n",
      "\n",
      "<br/><li> <i>Update the file name for the static structure:</i> This is the file name you used for the output from PDBFixer.  By default, this is output.pdf.  If you used a different name for the PDBFixer output file, you need to replace output.pdb with that new name in the load commands below.</li>\n",
      "</li>\n",
      "</ul>\n",
      "\n",
      "<li><b>Run the cell:</b> This may take a few minutes.  You will know the program is still running if the \"Kernal busy\" notice appears in the upper-right corner.  When the loading is complete, you will see the message \"Trajectories loaded!\".  </li> \n",
      "</ol>\n"
     ]
    },
    {
     "cell_type": "code",
     "collapsed": false,
     "input": [
      "traj1 = mdtraj.load('ImplicitOutput1.pdb', top='output.pdb')\n",
      "traj2 = mdtraj.load('ImplicitOutput2.pdb', top='output.pdb')\n",
      "print ('Trajectories loaded!')"
     ],
     "language": "python",
     "metadata": {},
     "outputs": [
      {
       "output_type": "stream",
       "stream": "stdout",
       "text": [
        "Trajectories loaded!\n"
       ]
      },
      {
       "output_type": "stream",
       "stream": "stderr",
       "text": [
        "C:\\Users\\Joy Ku\\Miniconda3\\lib\\site-packages\\mdtraj\\core\\trajectory.py:300: UserWarning: top= kwarg ignored since file contains topology information\n",
        "  warnings.warn('top= kwarg ignored since file contains topology information')\n"
       ]
      }
     ],
     "prompt_number": 2
    },
    {
     "cell_type": "markdown",
     "metadata": {},
     "source": [
      "<ol start=\"4\">\n",
      "<li> <b>Query trajectories:</b> We can query any trajectory object by just writing its name into a cell and running the cell. This will give us information such as the size of the trajectory and the number of atoms. In the cell below, we show how to get the information for traj1.  \n",
      "</ol>"
     ]
    },
    {
     "cell_type": "code",
     "collapsed": false,
     "input": [
      "traj1"
     ],
     "language": "python",
     "metadata": {},
     "outputs": [
      {
       "metadata": {},
       "output_type": "pyout",
       "prompt_number": 3,
       "text": [
        "<mdtraj.Trajectory with 501 frames, 1224 atoms, 75 residues, and unitcells at 0x5ba3710>"
       ]
      }
     ],
     "prompt_number": 3
    },
    {
     "cell_type": "markdown",
     "metadata": {},
     "source": [
      "<br/>Update the cell below to print out information for traj2.  Do traj1 and traj2 have the same number of frames and atoms?  (They should!  The only difference should be in the location for the unitcells.)  \n"
     ]
    },
    {
     "cell_type": "code",
     "collapsed": false,
     "input": [],
     "language": "python",
     "metadata": {},
     "outputs": [
      {
       "metadata": {},
       "output_type": "pyout",
       "prompt_number": 4,
       "text": [
        "<mdtraj.Trajectory with 501 frames, 1224 atoms, 75 residues, and unitcells at 0x299b5f70>"
       ]
      }
     ],
     "prompt_number": 4
    },
    {
     "cell_type": "markdown",
     "metadata": {},
     "source": [
      "<div class=\"exampletitle\">\n",
      "<h4>Exercise: Comparing the Root Mean Square Deviation (RMSD) of Two Trajectories</h4>\n",
      "</div>\n",
      "\n",
      "<br/>One way we might want to analyze our trajectories is by performing a Root Mean Squared Deviation (RMSD) calculation of the entire trajectory.  \n",
      "\n",
      "<ol>\n",
      "<li> <b>Compute the RMSD:</b>  We can use the <i>rmsd</i> command, as shown below, to compute the differences between each frame of a trajectory and the first frame (frame 0) of that trajectory.  Run the cell below to generate the RMSD for both traj1 and traj2.</li>\n",
      "</ol>"
     ]
    },
    {
     "cell_type": "code",
     "collapsed": false,
     "input": [
      "# The rmsd method has the following format: \n",
      "#       mdtraj.rmsd(target, reference, frame=0, [optional]atom_indices=None)\n",
      "# where you are comparing each frame of the target trajectory with the specified frame from the reference trajectory\n",
      "\n",
      "traj1rmsd = mdtraj.rmsd(traj1, traj1, frame=0)\n",
      "traj2rmsd = mdtraj.rmsd(traj2, traj2, frame=0)\n",
      "print ('RMSD computed')"
     ],
     "language": "python",
     "metadata": {},
     "outputs": [
      {
       "output_type": "stream",
       "stream": "stdout",
       "text": [
        "RMSD computed\n"
       ]
      }
     ],
     "prompt_number": 5
    },
    {
     "cell_type": "markdown",
     "metadata": {},
     "source": [
      "<ol start=\"2\">\n",
      "<li> <b>Visualize the RMSD:</b> We could examine the RMSD data, which is stored in the objects <i>traj1rmsd</i> and <i>traj2rmsd</i>, but a visual representation may enable us to distinguish patterns more readily.  \n",
      "\n",
      "Run the cell below to display the RMSD for the two trajectories.  Note:  We use a handy library called matplotlib for easy-to-use graphing.  This was one of the libraries we imported earlier (import matplotlib.pyplot as plt). This command only needs to be run once within a given notebook."
     ]
    },
    {
     "cell_type": "code",
     "collapsed": false,
     "input": [
      "#Let's plot the raw data for the rmsd.\n",
      "plt.plot(traj1rmsd, color='blue')\n",
      "plt.plot(traj2rmsd, color='red')\n",
      "plt.xlabel('Time')\n",
      "plt.ylabel('RMSD(nm)')\n",
      "plt.title('RMSD')\n",
      "plt.show()"
     ],
     "language": "python",
     "metadata": {},
     "outputs": [
      {
       "metadata": {},
       "output_type": "display_data",
       "png": "[encoded data removed]",
       "text": [
        "<matplotlib.figure.Figure at 0x5bbc510>"
       ]
      }
     ],
     "prompt_number": 6
    },
    {
     "cell_type": "markdown",
     "metadata": {},
     "source": [
      "[ADD IN QUESTIONS FOR USER TO CONSIDER WHEN EXAMINING THE PLOTS.  PERHAPS INCLUDE ADDITIONAL STEPS TO COMPUTE RMSD FOR ONLY LOOP SECTION]"
     ]
    },
    {
     "cell_type": "markdown",
     "metadata": {},
     "source": [
      "<div class=\"exampletitle\">\n",
      "<h4>Exercise: Plotting and Comparing the Dihedrals of Two Trajectories</h4>\n",
      "</div>\n",
      "\n",
      "<br/>After some initial viewings of the trajectories, you realize that the loop motion for this chain can be quantified using the 4th phi (5th if you start counting from 1;  4th if you start counting from 0) dihedral of the system. Lucky for you, MDTraj can compute phi,psi,chi1,chi2 or pretty much any arbitrary dihedral. \n",
      "\n",
      "<ol>\n",
      "<li><b>Compute the phi dihedrals:</b>  Run the cell below.</li>\n",
      "</ol>"
     ]
    },
    {
     "cell_type": "code",
     "collapsed": false,
     "input": [
      "#The mdtraj.compute_phi function returns two things: \n",
      "# 1) the indices used to compute the phi dihedrals(called indices_list1 and indices_list2 here)\n",
      "# 2) an m*n matrix (called phi_dihed1 and phi_dihed2) which has the m-rows corresponding to the 'm' time points, and n-columns(corresponding to the number of phi dihedrals in the system)\n",
      "\n",
      "indices_list1, phi_dihed1 =  mdtraj.compute_phi(traj1)\n",
      "indices_list2, phi_dihed2 =  mdtraj.compute_phi(traj2)\n",
      "\n",
      "print ('Dihedrals computed')"
     ],
     "language": "python",
     "metadata": {},
     "outputs": [
      {
       "output_type": "stream",
       "stream": "stdout",
       "text": [
        "Dihedrals computed\n"
       ]
      }
     ],
     "prompt_number": 8
    },
    {
     "cell_type": "markdown",
     "metadata": {},
     "source": [
      "<ol start=\"2\">\n",
      "<li> <b>Plot the dihedrals:</b> We can plot the dihedrals using the same method we used for plotting the RMSD. Run the cell below to generate the plots.</li>\n",
      "</ol>"
     ]
    },
    {
     "cell_type": "code",
     "collapsed": false,
     "input": [
      "# Define a variable for the index of the dihedral we want to plot\n",
      "dihedral_wanted = 4\n",
      "\n",
      "# Note the change in the plotting command.  Here we are telling Python that we would like to plot all the \"m\" (row) data \n",
      "# points using the special \":\" symbol.  However, we only want to plot the values from the 4th column (the 4th dihedral). \n",
      "plt.plot(phi_dihed1[:, dihedral_wanted], color='blue')\n",
      "plt.plot(phi_dihed2[:, dihedral_wanted], color='red')\n",
      "\n",
      "plt.ylabel('radians')\n",
      "plt.xlabel('time')\n",
      "plt.title('Phi Dihedrals')\n",
      "plt.show()"
     ],
     "language": "python",
     "metadata": {},
     "outputs": [
      {
       "metadata": {},
       "output_type": "display_data",
       "png": "[encoded data removed]",
       "text": [
        "<matplotlib.figure.Figure at 0x5bbc0d0>"
       ]
      }
     ],
     "prompt_number": 10
    },
    {
     "cell_type": "markdown",
     "metadata": {},
     "source": [
      "<h2>Acknowledgements</h2>\n",
      "\n",
      "This tutorial was based upon ones created by Gert Kiss and Muneeb Sultan."
     ]
    }
   ],
   "metadata": {}
  }
 ]
}